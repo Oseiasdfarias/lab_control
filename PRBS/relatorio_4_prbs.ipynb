{
 "cells": [
  {
   "cell_type": "code",
   "execution_count": 2,
   "metadata": {},
   "outputs": [],
   "source": [
    "import numpy as np\n",
    "import pandas as pd\n",
    "import matplotlib.pyplot as plt\n",
    "import control as ct\n",
    "# from sklearn.metrics import mean_squared_error"
   ]
  },
  {
   "cell_type": "code",
   "execution_count": 4,
   "metadata": {},
   "outputs": [
    {
     "data": {
      "text/plain": [
       "array([[0.000e+00, 7.500e+00, 0.000e+00],\n",
       "       [2.000e-02, 7.500e+00, 0.000e+00],\n",
       "       [4.000e-02, 7.500e+00, 1.900e-01],\n",
       "       ...,\n",
       "       [2.042e+01, 8.500e+00, 2.470e+00],\n",
       "       [2.044e+01, 8.500e+00, 2.490e+00],\n",
       "       [2.046e+01, 8.500e+00, 2.500e+00]])"
      ]
     },
     "execution_count": 4,
     "metadata": {},
     "output_type": "execute_result"
    }
   ],
   "source": [
    "dados = pd.read_csv(\"prbs_ma_7_5_v2.csv\", sep=\";\", header = None).values\n",
    "dados"
   ]
  }
 ],
 "metadata": {
  "kernelspec": {
   "display_name": "Python 3",
   "language": "python",
   "name": "python3"
  },
  "language_info": {
   "codemirror_mode": {
    "name": "ipython",
    "version": 3
   },
   "file_extension": ".py",
   "mimetype": "text/x-python",
   "name": "python",
   "nbconvert_exporter": "python",
   "pygments_lexer": "ipython3",
   "version": "3.10.11"
  },
  "orig_nbformat": 4
 },
 "nbformat": 4,
 "nbformat_minor": 2
}
